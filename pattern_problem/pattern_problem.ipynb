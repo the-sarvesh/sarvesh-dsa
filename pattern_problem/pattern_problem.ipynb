{
 "cells": [
  {
   "cell_type": "markdown",
   "id": "c692bd71",
   "metadata": {},
   "source": [
    "![alt text](P1.png)"
   ]
  },
  {
   "cell_type": "code",
   "execution_count": 1,
   "id": "0ebfb1a7",
   "metadata": {},
   "outputs": [
    {
     "name": "stdout",
     "output_type": "stream",
     "text": [
      "*****\n",
      "*****\n",
      "*****\n",
      "*****\n",
      "*****\n"
     ]
    }
   ],
   "source": [
    "star = \"*\"\n",
    "n = int(input(\"Enter Number: \"))\n",
    "for i in range(n):\n",
    "    print(star * n)"
   ]
  },
  {
   "cell_type": "markdown",
   "id": "b4e1c5e2",
   "metadata": {},
   "source": [
    "![alt text](P2.png)"
   ]
  },
  {
   "cell_type": "code",
   "execution_count": 3,
   "id": "052c3b06",
   "metadata": {},
   "outputs": [
    {
     "name": "stdout",
     "output_type": "stream",
     "text": [
      "*\n",
      "**\n",
      "***\n",
      "****\n",
      "*****\n"
     ]
    }
   ],
   "source": [
    "star = \"*\"\n",
    "n = int(input(\"Enter Number: \"))\n",
    "for i in range(1,n+1):\n",
    "    print(star * i)"
   ]
  },
  {
   "cell_type": "markdown",
   "id": "7baa919e",
   "metadata": {},
   "source": [
    "![alt text](P3.png)"
   ]
  },
  {
   "cell_type": "code",
   "execution_count": 12,
   "id": "4e6ccafd",
   "metadata": {},
   "outputs": [
    {
     "name": "stdout",
     "output_type": "stream",
     "text": [
      "1\n",
      "1 2\n",
      "1 2 3\n",
      "1 2 3 4\n",
      "1 2 3 4 5\n"
     ]
    }
   ],
   "source": [
    "n = int(input(\"Enter Number: \"))\n",
    "for i in range(1, n + 1):\n",
    "    print(\" \".join(str(j) for j in range(1,i +1)))\n",
    "    \n"
   ]
  },
  {
   "cell_type": "markdown",
   "id": "ab3c1eb0",
   "metadata": {},
   "source": [
    "![alt text](P4.png)"
   ]
  },
  {
   "cell_type": "code",
   "execution_count": 14,
   "id": "f1c9b699",
   "metadata": {},
   "outputs": [
    {
     "name": "stdout",
     "output_type": "stream",
     "text": [
      "1\n",
      "22\n",
      "333\n",
      "4444\n",
      "55555\n"
     ]
    }
   ],
   "source": [
    "n = int(input(\"Enter Number: \"))\n",
    "for i in range(1, n + 1):\n",
    "    print(str(i) * i)"
   ]
  },
  {
   "cell_type": "markdown",
   "id": "10f2807f",
   "metadata": {},
   "source": [
    "![alt text](P5.png)"
   ]
  },
  {
   "cell_type": "code",
   "execution_count": 15,
   "id": "1c1983d0",
   "metadata": {},
   "outputs": [
    {
     "name": "stdout",
     "output_type": "stream",
     "text": [
      "*****\n",
      "****\n",
      "***\n",
      "**\n",
      "*\n",
      "\n"
     ]
    }
   ],
   "source": [
    "n = int(input(\"Enter Number: \"))\n",
    "star = \"*\"\n",
    "while n >= 0:\n",
    "    print(star * n)\n",
    "    n -= 1\n",
    "\n"
   ]
  },
  {
   "cell_type": "code",
   "execution_count": 36,
   "id": "f5866e8e",
   "metadata": {},
   "outputs": [
    {
     "name": "stdout",
     "output_type": "stream",
     "text": [
      "*****\n",
      "****\n",
      "***\n",
      "**\n",
      "*\n"
     ]
    }
   ],
   "source": [
    "n = int(input(\"Enter Number: \"))\n",
    "star = \"*\"\n",
    "for i in range(n,0,-1):\n",
    "    print(star * i)"
   ]
  },
  {
   "cell_type": "markdown",
   "id": "f2d3a456",
   "metadata": {},
   "source": [
    "![alt text](P5-1.png)\n"
   ]
  },
  {
   "cell_type": "code",
   "execution_count": null,
   "id": "301123e8",
   "metadata": {},
   "outputs": [
    {
     "name": "stdout",
     "output_type": "stream",
     "text": [
      "1 2 3 4 5\n",
      "1 2 3 4\n",
      "1 2 3\n",
      "1 2\n",
      "1\n"
     ]
    }
   ],
   "source": [
    "n = int(input(\"Enter Number of lines : \"))\n",
    "star = \"*\"\n",
    "for i in range(0,n):\n",
    "    print(\" \".join(str(j) for j in range(1, (n+1) - i)))\n"
   ]
  },
  {
   "cell_type": "markdown",
   "id": "b83a8530",
   "metadata": {},
   "source": [
    "![alt text](P7.png)"
   ]
  },
  {
   "cell_type": "code",
   "execution_count": null,
   "id": "1880f895",
   "metadata": {},
   "outputs": [
    {
     "name": "stdout",
     "output_type": "stream",
     "text": [
      "    *    \n",
      "   ***   \n",
      "  *****  \n",
      " ******* \n",
      "*********\n"
     ]
    }
   ],
   "source": [
    "n = int(input(\"Enter Number of lines : \"))\n",
    "star = \"*\"\n",
    "space = \" \"\n",
    "for i in range(1,n+1):\n",
    "    s_space = space * (n-i)\n",
    "    star_count = star * ((i * 2) - 1)\n",
    "    print(s_space+star_count+s_space)"
   ]
  },
  {
   "cell_type": "markdown",
   "id": "385a2c5a",
   "metadata": {},
   "source": [
    "![alt text](P8.png)"
   ]
  },
  {
   "cell_type": "code",
   "execution_count": null,
   "id": "250abb20",
   "metadata": {},
   "outputs": [
    {
     "name": "stdout",
     "output_type": "stream",
     "text": [
      "*********\n",
      " ******* \n",
      "  *****  \n",
      "   ***   \n",
      "    *    \n"
     ]
    }
   ],
   "source": [
    "n = int(input(\"Enter Number of lines : \"))\n",
    "star = \"*\"\n",
    "space = \" \"\n",
    "for i in range(n,0,-1):\n",
    "    space = space * (n-i)\n",
    "    star_count = star * ((i*2)-1)\n",
    "    print(s_space+star_count+s_space)"
   ]
  },
  {
   "cell_type": "markdown",
   "id": "f4673aab",
   "metadata": {},
   "source": [
    "![alt text](P9.png)\n"
   ]
  },
  {
   "cell_type": "code",
   "execution_count": 39,
   "id": "df1cee46",
   "metadata": {},
   "outputs": [
    {
     "name": "stdout",
     "output_type": "stream",
     "text": [
      "    *    \n",
      "   ***   \n",
      "  *****  \n",
      " ******* \n",
      "*********\n",
      "*********\n",
      " ******* \n",
      "  *****  \n",
      "   ***   \n",
      "    *    \n"
     ]
    }
   ],
   "source": [
    "n = int(input(\"Enter Number of lines: \"))\n",
    "\n",
    "def print_line(i, n):\n",
    "    spaces = \" \" * (n - i)\n",
    "    stars = \"*\" * (2 * i - 1)\n",
    "    print(spaces + stars + spaces)\n",
    "\n",
    "# Top half\n",
    "for i in range(1, n + 1):\n",
    "    print_line(i, n)\n",
    "\n",
    "# Bottom half\n",
    "for i in range(n, 0, -1):\n",
    "    print_line(i, n)\n"
   ]
  },
  {
   "cell_type": "markdown",
   "id": "1155bdfb",
   "metadata": {},
   "source": [
    "![alt text](P10.png)"
   ]
  },
  {
   "cell_type": "code",
   "execution_count": 43,
   "id": "d7204eee",
   "metadata": {},
   "outputs": [
    {
     "name": "stdout",
     "output_type": "stream",
     "text": [
      "*\n",
      "**\n",
      "***\n",
      "****\n",
      "*****\n",
      "****\n",
      "***\n",
      "**\n",
      "*\n"
     ]
    }
   ],
   "source": [
    "n = int(input(\"Enter Number of lines: \"))\n",
    "\n",
    "for i in range(1,n+1):\n",
    "    print( \"*\" * i)\n",
    "for i in range(n-1,0,-1):\n",
    "    print(\"*\" * i)\n"
   ]
  },
  {
   "cell_type": "markdown",
   "id": "65c0993e",
   "metadata": {},
   "source": [
    "![alt text](P11.png)"
   ]
  },
  {
   "cell_type": "code",
   "execution_count": 48,
   "id": "6dd8a84d",
   "metadata": {},
   "outputs": [
    {
     "name": "stdout",
     "output_type": "stream",
     "text": [
      "1 \n",
      "0 1 \n",
      "1 0 1 \n",
      "0 1 0 1 \n",
      "1 0 1 0 1 \n"
     ]
    }
   ],
   "source": [
    "n = int(input(\"Enter Number of lines: \"))\n",
    "\n",
    "starts = 1\n",
    "\n",
    "\n",
    "for i in range(1 , n+1):\n",
    "    if i % 2 != 0:\n",
    "          starts = 1\n",
    "    else :\n",
    "          starts = 0\n",
    "\n",
    "          \n",
    "    for j in range(1, i+1):\n",
    "         print(starts, end=\" \")\n",
    "         starts = 1 - starts\n",
    "    \n",
    "    print(\"\")\n",
    "    "
   ]
  },
  {
   "cell_type": "markdown",
   "id": "aedb72e7",
   "metadata": {},
   "source": [
    "![alt text](P12.png)"
   ]
  },
  {
   "cell_type": "code",
   "execution_count": 54,
   "id": "071cc8f1",
   "metadata": {},
   "outputs": [
    {
     "name": "stdout",
     "output_type": "stream",
     "text": [
      "1        1\n",
      "12      21\n",
      "123    321\n",
      "1234  4321\n",
      "1234554321\n"
     ]
    }
   ],
   "source": [
    "n = int(input(\"Enter Number of lines: \"))\n",
    "\n",
    "for i in range(1, n + 1):\n",
    "    start = ''.join(str(j) for j in range(1, i + 1))\n",
    "    end = ''.join(str(j) for j in range(i, 0, -1))\n",
    "    middle_space = ' ' * (2 * (n - i))\n",
    "    print(start + middle_space + end)\n"
   ]
  },
  {
   "cell_type": "markdown",
   "id": "971b07bb",
   "metadata": {},
   "source": [
    "![alt text](P13.png)"
   ]
  },
  {
   "cell_type": "code",
   "execution_count": 62,
   "id": "739abbc6",
   "metadata": {},
   "outputs": [
    {
     "name": "stdout",
     "output_type": "stream",
     "text": [
      "\n",
      "1\n",
      "23\n",
      "456\n",
      "78910\n"
     ]
    }
   ],
   "source": [
    "n = int(input(\"Enter Number of lines: \"))\n",
    "\n",
    "num = 1\n",
    "\n",
    "for i in range(1, n + 1):\n",
    "    \n",
    "    for j in range(1,i):\n",
    "        print(num,end=\"\")\n",
    "        num += 1\n",
    "    print(\"\")"
   ]
  },
  {
   "cell_type": "code",
   "execution_count": 63,
   "id": "2b3d40b9",
   "metadata": {},
   "outputs": [
    {
     "name": "stdout",
     "output_type": "stream",
     "text": [
      "A B C D E F G H I J K L M N O P Q R S T U V W X Y Z "
     ]
    }
   ],
   "source": [
    "for i in range(65, 91):  # 91 is excluded, so goes up to 90\n",
    "    print(chr(i), end=\" \")\n"
   ]
  },
  {
   "cell_type": "code",
   "execution_count": 68,
   "id": "af563e8a",
   "metadata": {},
   "outputs": [
    {
     "name": "stdout",
     "output_type": "stream",
     "text": [
      "A\n",
      "AB\n",
      "ABC\n",
      "ABCD\n",
      "ABCDE\n"
     ]
    }
   ],
   "source": [
    "n = int(input(\"Enter Number of lines: \"))\n",
    "\n",
    "a = 65\n",
    "\n",
    "for i in range(1,n+1):\n",
    "    for j in range(a, a + i):\n",
    "        print(chr(j),end=\"\")\n",
    "    print(\"\")"
   ]
  },
  {
   "cell_type": "code",
   "execution_count": 72,
   "id": "791c9290",
   "metadata": {},
   "outputs": [
    {
     "name": "stdout",
     "output_type": "stream",
     "text": [
      "ABCDE\n",
      "ABCD\n",
      "ABC\n",
      "AB\n",
      "A\n"
     ]
    }
   ],
   "source": [
    "n = int(input(\"Enter Number of lines: \"))\n",
    "\n",
    "a = 65\n",
    "\n",
    "for i in range(n,0,-1):\n",
    "    for j in range(a, a + i):\n",
    "        print(chr(j),end=\"\")\n",
    "    print(\"\")"
   ]
  },
  {
   "cell_type": "code",
   "execution_count": 76,
   "id": "b46b7b93",
   "metadata": {},
   "outputs": [
    {
     "name": "stdout",
     "output_type": "stream",
     "text": [
      "A\n",
      "BB\n",
      "CCC\n",
      "DDDD\n",
      "EEEEE\n"
     ]
    }
   ],
   "source": [
    "n = int(input(\"Enter Number of lines: \"))\n",
    "\n",
    "a = 65\n",
    "\n",
    "for i in range(0,n):\n",
    "\n",
    "    print(chr(a+i) * (i+1))\n",
    "\n",
    "\n"
   ]
  },
  {
   "cell_type": "code",
   "execution_count": 3,
   "id": "9d48936c",
   "metadata": {},
   "outputs": [
    {
     "name": "stdout",
     "output_type": "stream",
     "text": [
      "    A\n",
      "   ABA\n",
      "  ABCBA\n",
      " ABCDCBA\n",
      "ABCDEDCBA\n"
     ]
    }
   ],
   "source": [
    "n = int(input(\"Enter Number of lines: \"))\n",
    "\n",
    "a = 65\n",
    "\n",
    "for i in range(1,n+1):\n",
    "    space = \" \" * (n-i)\n",
    "    print(space + \"\".join(chr(a + j) for j in range(0 , i)) + \"\".join(chr((a + (i-1)) - k) for k in range(1,i)))"
   ]
  },
  {
   "cell_type": "code",
   "execution_count": 4,
   "id": "f75d84b9",
   "metadata": {},
   "outputs": [
    {
     "name": "stdout",
     "output_type": "stream",
     "text": [
      "    A\n",
      "   ABA\n",
      "  ABCBA\n",
      " ABCDCBA\n",
      "ABCDEDCBA\n"
     ]
    }
   ],
   "source": [
    "n = int(input(\"Enter Number of lines: \"))\n",
    "\n",
    "for i in range(1, n + 1):\n",
    "    # Calculate the leading spaces\n",
    "    space = \" \" * (n - i)\n",
    "    \n",
    "    # Generate ascending characters: A to A + i - 1\n",
    "    left = [chr(65 + j) for j in range(i)]\n",
    "    \n",
    "    # Generate descending characters: A + i - 2 to A\n",
    "    right = left[:-1][::-1]\n",
    "    \n",
    "    # Join and print the full line\n",
    "    print(space + ''.join(left + right))\n"
   ]
  },
  {
   "cell_type": "markdown",
   "id": "f5faf5e1",
   "metadata": {},
   "source": [
    "![alt text](P18.png)"
   ]
  },
  {
   "cell_type": "code",
   "execution_count": 7,
   "id": "42ce6d9d",
   "metadata": {},
   "outputs": [
    {
     "name": "stdout",
     "output_type": "stream",
     "text": [
      "E \n",
      "D E \n",
      "C D E \n",
      "B C D E \n",
      "A B C D E \n"
     ]
    }
   ],
   "source": [
    "n = int(input(\"Enter Number of lines: \"))\n",
    "\n",
    "a = 65\n",
    "\n",
    "for i in range(n,0,-1):\n",
    "    for j in range(i-1,n):\n",
    "        print(chr(a+j),end=\" \")\n",
    "    print(\"\")\n",
    "\n"
   ]
  },
  {
   "cell_type": "code",
   "execution_count": 15,
   "id": "5a1534d5",
   "metadata": {},
   "outputs": [
    {
     "name": "stdout",
     "output_type": "stream",
     "text": [
      "**********\n",
      "****  ****\n",
      "***    ***\n",
      "**      **\n",
      "*        *\n",
      "*        *\n",
      "**      **\n",
      "***    ***\n",
      "****  ****\n",
      "**********\n"
     ]
    }
   ],
   "source": [
    "n = int(input(\"Enter Number of lines: \"))\n",
    "\n",
    "for i in range(0,n):\n",
    "    space =  \" \" * (2*i)\n",
    "    star = \"*\" * (n-i)\n",
    "    print(star+space+star)\n",
    "for i in range(n,0,-1):\n",
    "    space =  \" \" * (2*(i-1))\n",
    "    star = \"*\" * ((n +1)-i)\n",
    "    print(star+space+star)\n",
    "\n",
    "\n"
   ]
  },
  {
   "cell_type": "code",
   "execution_count": null,
   "id": "3a8a5b8c",
   "metadata": {},
   "outputs": [],
   "source": [
    "n = int(input(\"Enter Number of lines: \"))\n",
    "\n",
    "for i in range(-n ,n):\n",
    "    line = abs(i)\n",
    "    star = \"*\" * (line)"
   ]
  },
  {
   "cell_type": "code",
   "execution_count": 17,
   "id": "7de27d19",
   "metadata": {},
   "outputs": [
    {
     "name": "stdout",
     "output_type": "stream",
     "text": [
      "**********\n",
      "****  ****\n",
      "***    ***\n",
      "**      **\n",
      "*        *\n",
      "*        *\n",
      "**      **\n",
      "***    ***\n",
      "****  ****\n",
      "**********\n"
     ]
    }
   ],
   "source": [
    "n = int(input(\"Enter Number of lines: \"))\n",
    "\n",
    "# Top half\n",
    "for i in range(n):\n",
    "    stars = \"*\" * (n - i)\n",
    "    spaces = \" \" * (2 * i)\n",
    "    print(stars + spaces + stars)\n",
    "\n",
    "# Bottom half\n",
    "for i in range(n):\n",
    "    stars = \"*\" * (i + 1)\n",
    "    spaces = \" \" * (2 * (n - i - 1))\n",
    "    print(stars + spaces + stars)\n"
   ]
  },
  {
   "cell_type": "code",
   "execution_count": 22,
   "id": "4194b15c",
   "metadata": {},
   "outputs": [
    {
     "name": "stdout",
     "output_type": "stream",
     "text": [
      "*        *\n",
      "**      **\n",
      "***    ***\n",
      "****  ****\n",
      "**********\n",
      "****  ****\n",
      "***    ***\n",
      "**      **\n",
      "*        *\n"
     ]
    }
   ],
   "source": [
    "n = int(input(\"Enter Number of lines: \"))\n",
    "\n",
    "for i in range(-n + 1, n):\n",
    "    line = n - abs(i)  # line = 1 to n\n",
    "    stars = \"*\" * line\n",
    "    spaces = \" \" * (2 * (n - line))\n",
    "    print(stars + spaces + stars)\n"
   ]
  },
  {
   "cell_type": "markdown",
   "id": "c8dcba46",
   "metadata": {},
   "source": [
    "![alt text](P20.png)"
   ]
  },
  {
   "cell_type": "code",
   "execution_count": 21,
   "id": "d9e63e73",
   "metadata": {},
   "outputs": [
    {
     "name": "stdout",
     "output_type": "stream",
     "text": [
      "*        *\n",
      "**      **\n",
      "***    ***\n",
      "****  ****\n",
      "**********\n",
      "****  ****\n",
      "***    ***\n",
      "**      **\n",
      "*        *\n"
     ]
    }
   ],
   "source": [
    "n = int(input(\"Enter Number of lines: \"))\n",
    "for i in range(n):\n",
    "    space = \" \" * (2* (n-i-1))\n",
    "    star = \"*\" * (i+1)\n",
    "    print(star+space+star)\n",
    "\n",
    "for i in range(n-1):\n",
    "    space = \" \" * (2* (i+1))\n",
    "    star = \"*\" * (n-i-1)\n",
    "    print(star+space+star)\n"
   ]
  },
  {
   "cell_type": "code",
   "execution_count": null,
   "id": "f8f38ecc",
   "metadata": {},
   "outputs": [
    {
     "name": "stdout",
     "output_type": "stream",
     "text": [
      "*        *\n",
      "**      **\n",
      "***    ***\n",
      "****  ****\n",
      "**********\n",
      "****  ****\n",
      "***    ***\n",
      "**      **\n",
      "*        *\n"
     ]
    }
   ],
   "source": [
    "n = int(input(\"Enter Number of lines: \"))\n",
    "\n",
    "for i in range(-n + 1, n):\n",
    "    line = abs(i)\n",
    "    stars = \"*\" * (n - line)\n",
    "    spaces = \" \" * (2 * line)\n",
    "    print(stars + spaces + stars)\n"
   ]
  },
  {
   "cell_type": "markdown",
   "id": "2043a58b",
   "metadata": {},
   "source": [
    "![alt text](image-25.png)"
   ]
  },
  {
   "cell_type": "code",
   "execution_count": 27,
   "id": "cf0455d3",
   "metadata": {},
   "outputs": [
    {
     "name": "stdout",
     "output_type": "stream",
     "text": [
      "*****\n",
      "*   *\n",
      "*   *\n",
      "*   *\n",
      "*****\n"
     ]
    }
   ],
   "source": [
    "n = int(input(\"Enter Number of lines: \"))\n",
    "star = \"*\" \n",
    "for i in range(1,n+1):\n",
    "    if i == 1 or i == n:\n",
    "        print (star * n)\n",
    "    else: \n",
    "        space = \" \" * (n-2)\n",
    "        print(star+space+star)"
   ]
  },
  {
   "cell_type": "markdown",
   "id": "4f7b16bf",
   "metadata": {},
   "source": [
    "![alt text](P22.png)"
   ]
  },
  {
   "cell_type": "code",
   "execution_count": 40,
   "id": "b68cb368",
   "metadata": {},
   "outputs": [
    {
     "name": "stdout",
     "output_type": "stream",
     "text": [
      "5 5 5 5 5 5 5 5 5 \n",
      "5 4 4 4 4 4 4 4 5 \n",
      "5 4 3 3 3 3 3 4 5 \n",
      "5 4 3 2 2 2 3 4 5 \n",
      "5 4 3 2 1 2 3 4 5 \n",
      "5 4 3 2 2 2 3 4 5 \n",
      "5 4 3 3 3 3 3 4 5 \n",
      "5 4 4 4 4 4 4 4 5 \n",
      "5 5 5 5 5 5 5 5 5 \n"
     ]
    }
   ],
   "source": [
    "N = int(input(\"Enter N: \"))\n",
    "size = 2*n -1\n",
    "\n",
    "\n",
    "for i in range(size):\n",
    "    for j in range(size):\n",
    "        min_dist = min(i,j, size-1-i,size-1-j)\n",
    "\n",
    "        print(N-min_dist, end=\" \")\n",
    "    print(\"\")"
   ]
  },
  {
   "cell_type": "code",
   "execution_count": null,
   "id": "2c4627a2",
   "metadata": {},
   "outputs": [],
   "source": []
  }
 ],
 "metadata": {
  "kernelspec": {
   "display_name": "Python 3",
   "language": "python",
   "name": "python3"
  },
  "language_info": {
   "codemirror_mode": {
    "name": "ipython",
    "version": 3
   },
   "file_extension": ".py",
   "mimetype": "text/x-python",
   "name": "python",
   "nbconvert_exporter": "python",
   "pygments_lexer": "ipython3",
   "version": "3.13.1"
  }
 },
 "nbformat": 4,
 "nbformat_minor": 5
}
